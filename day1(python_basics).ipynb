{
  "cells": [
    {
      "cell_type": "markdown",
      "metadata": {
        "id": "view-in-github",
        "colab_type": "text"
      },
      "source": [
        "<a href=\"https://colab.research.google.com/github/garimarokaha/Data_science_journey/blob/main/day1(python_basics).ipynb\" target=\"_parent\"><img src=\"https://colab.research.google.com/assets/colab-badge.svg\" alt=\"Open In Colab\"/></a>"
      ]
    },
    {
      "cell_type": "code",
      "execution_count": null,
      "id": "62321276-9d9d-4fe6-9337-0f757aa1b641",
      "metadata": {
        "id": "62321276-9d9d-4fe6-9337-0f757aa1b641",
        "outputId": "a27b1341-c271-48db-af13-26c891eadd4a"
      },
      "outputs": [
        {
          "name": "stdout",
          "output_type": "stream",
          "text": [
            "3\n"
          ]
        }
      ],
      "source": [
        "x= 1 #store value => integer value /datatype /datastructure\n",
        "y=2.5 #float\n",
        "sum=x+y\n",
        "print(sum)\n"
      ]
    },
    {
      "cell_type": "code",
      "execution_count": null,
      "id": "c73c300b-a566-4605-9cad-074c88742497",
      "metadata": {
        "id": "c73c300b-a566-4605-9cad-074c88742497",
        "outputId": "feda5268-8b78-4bdb-d828-ac2a377bc29d"
      },
      "outputs": [
        {
          "name": "stdout",
          "output_type": "stream",
          "text": [
            "(2.5+5j)\n"
          ]
        }
      ],
      "source": [
        "x= 1 #store value => integer value /datatype /datastructure\n",
        "y=2.5 #float\n",
        "x='ram' #string=> single/double quotation\n",
        "x=5j #complex\n",
        "sum=x+y\n",
        "print(sum)"
      ]
    },
    {
      "cell_type": "code",
      "execution_count": null,
      "id": "dd39a3c7-48a0-4127-89eb-0ec038b1705d",
      "metadata": {
        "id": "dd39a3c7-48a0-4127-89eb-0ec038b1705d",
        "outputId": "0aca6ab3-4382-4204-b9f5-3bcb5f7f082a"
      },
      "outputs": [
        {
          "name": "stdout",
          "output_type": "stream",
          "text": [
            "<class 'int'>\n"
          ]
        }
      ],
      "source": [
        "a =5 #integer\n",
        "print(type(a))"
      ]
    },
    {
      "cell_type": "code",
      "execution_count": null,
      "id": "13fa266a-a1d1-4630-a34d-e4a8bd1bdef9",
      "metadata": {
        "id": "13fa266a-a1d1-4630-a34d-e4a8bd1bdef9",
        "outputId": "c11135e6-0105-41f6-f53f-6efef5a85aa6"
      },
      "outputs": [
        {
          "name": "stdout",
          "output_type": "stream",
          "text": [
            "140709148375608\n"
          ]
        }
      ],
      "source": [
        "print (id(a))"
      ]
    },
    {
      "cell_type": "code",
      "execution_count": null,
      "id": "9fbb215a-77a0-408a-a64b-72aded48af71",
      "metadata": {
        "id": "9fbb215a-77a0-408a-a64b-72aded48af71",
        "outputId": "1fafa1a8-7e1b-412d-d654-431196f261b5"
      },
      "outputs": [
        {
          "name": "stdout",
          "output_type": "stream",
          "text": [
            "my name is garima. I am from kathmandu \n"
          ]
        }
      ],
      "source": [
        "name = \"my name is garima. I am from kathmandu \" # my name is garima ra I am from kathmandu lai double line ma lekhna meldeana yo single ra double quoation ma so tripple quotation ko usse garne\n",
        "print(name)"
      ]
    },
    {
      "cell_type": "code",
      "execution_count": null,
      "id": "d075f195-8021-458c-8fc5-06cdb94dbe33",
      "metadata": {
        "id": "d075f195-8021-458c-8fc5-06cdb94dbe33",
        "outputId": "10a5d087-d04a-41ce-af28-dc75d3bd14f6"
      },
      "outputs": [
        {
          "name": "stdout",
          "output_type": "stream",
          "text": [
            "my name is Garima rokaha.\n",
            "I am from kathmandu\n"
          ]
        }
      ],
      "source": [
        "name =\"\"\"my name is Garima rokaha.\n",
        "I am from kathmandu\"\"\"\n",
        "print (name)"
      ]
    },
    {
      "cell_type": "code",
      "execution_count": null,
      "id": "e0f9c570-2591-4533-8d3d-5a811a722a74",
      "metadata": {
        "id": "e0f9c570-2591-4533-8d3d-5a811a722a74",
        "outputId": "224b8a51-d317-40aa-8381-26b55eaa54a7"
      },
      "outputs": [
        {
          "name": "stdout",
          "output_type": "stream",
          "text": [
            "True <class 'bool'>\n"
          ]
        }
      ],
      "source": [
        "#boolean\n",
        "x = True\n",
        "print(x,type(x))"
      ]
    },
    {
      "cell_type": "code",
      "execution_count": null,
      "id": "f317c019-f586-4823-a2a9-b8abe8aaf143",
      "metadata": {
        "id": "f317c019-f586-4823-a2a9-b8abe8aaf143",
        "outputId": "10628011-5a16-4b52-f17a-4a12b887d56f"
      },
      "outputs": [
        {
          "name": "stdout",
          "output_type": "stream",
          "text": [
            "None <class 'NoneType'>\n"
          ]
        }
      ],
      "source": [
        "#None datatype\n",
        "x= None\n",
        "print(x, type(x))"
      ]
    },
    {
      "cell_type": "code",
      "execution_count": null,
      "id": "10bf01ba-cb63-4f38-98ed-1ceb2d565f91",
      "metadata": {
        "id": "10bf01ba-cb63-4f38-98ed-1ceb2d565f91",
        "outputId": "e4fd2795-d33b-4125-d647-03223b38499f"
      },
      "outputs": [
        {
          "name": "stdout",
          "output_type": "stream",
          "text": [
            "[1, 2, 3, 4] <class 'list'>\n"
          ]
        }
      ],
      "source": [
        "#list datatype\n",
        "x=[1,2,3,4]\n",
        "print(x, type(x))"
      ]
    },
    {
      "cell_type": "code",
      "execution_count": null,
      "id": "f07dabe6-4bcc-49db-84e2-9b552a721d8b",
      "metadata": {
        "id": "f07dabe6-4bcc-49db-84e2-9b552a721d8b",
        "outputId": "88364113-852d-4804-d746-bfcef8f1de54"
      },
      "outputs": [
        {
          "name": "stdout",
          "output_type": "stream",
          "text": [
            "(1, 2, 3, 4) <class 'tuple'>\n"
          ]
        }
      ],
      "source": [
        "#tuple datatype\n",
        "x =(1,2,3,4)\n",
        "print(x,type(x))"
      ]
    },
    {
      "cell_type": "code",
      "execution_count": null,
      "id": "5ea2365b-a28c-4a42-856d-fedfc0c0c47b",
      "metadata": {
        "id": "5ea2365b-a28c-4a42-856d-fedfc0c0c47b",
        "outputId": "c1aa4af6-48d2-4521-ac13-bb11f8d0a1d2"
      },
      "outputs": [
        {
          "name": "stdout",
          "output_type": "stream",
          "text": [
            "{1, 2, 3, 4} <class 'set'>\n"
          ]
        }
      ],
      "source": [
        "#set datatype\n",
        "x={1,2,3,4}\n",
        "print(x,type(x))"
      ]
    },
    {
      "cell_type": "code",
      "execution_count": null,
      "id": "735edc37-c0a1-487b-8b1c-7ca22823f636",
      "metadata": {
        "id": "735edc37-c0a1-487b-8b1c-7ca22823f636",
        "outputId": "deb854de-1119-4a3f-d544-110bcdbefdd9"
      },
      "outputs": [
        {
          "name": "stdout",
          "output_type": "stream",
          "text": [
            "{'name': 'ram', 'age': 22, 'address': 'ktm'} <class 'dict'>\n"
          ]
        }
      ],
      "source": [
        "# dictionary\n",
        "x= {\n",
        "    'name': 'ram', #key:value pair with coma seperated\n",
        "    \"age\" : 22,\n",
        "    \"address\" : 'ktm', # last coma is optonal\n",
        "}\n",
        "print(x , type(x))"
      ]
    },
    {
      "cell_type": "code",
      "execution_count": null,
      "id": "c27f68ca-ea02-4c6c-b76b-c75c653bd595",
      "metadata": {
        "id": "c27f68ca-ea02-4c6c-b76b-c75c653bd595",
        "outputId": "10015dc8-b525-4b55-cc8b-1fd4e7d2db93"
      },
      "outputs": [
        {
          "name": "stdin",
          "output_type": "stream",
          "text": [
            "Enter the value of x: 23\n",
            "Enter the value of y: 45\n"
          ]
        },
        {
          "name": "stdout",
          "output_type": "stream",
          "text": [
            "2345\n"
          ]
        }
      ],
      "source": [
        "x = input(\"Enter the value of x:\")\n",
        "y = input(\"Enter the value of y:\")\n",
        "sum= x+y\n",
        "print(sum)"
      ]
    },
    {
      "cell_type": "code",
      "execution_count": null,
      "id": "fd9cb7b9-565f-41da-b386-5d2b2561199b",
      "metadata": {
        "id": "fd9cb7b9-565f-41da-b386-5d2b2561199b",
        "outputId": "8c406244-24a4-4e0f-d248-ac54a63dc537"
      },
      "outputs": [
        {
          "name": "stdin",
          "output_type": "stream",
          "text": [
            "Enter the value of x: 2\n",
            "Enter the value of y: 3\n"
          ]
        },
        {
          "name": "stdout",
          "output_type": "stream",
          "text": [
            "sum of 2 and 3 is 5\n"
          ]
        }
      ],
      "source": [
        "x =  int (input(\"Enter the value of x:\"))\n",
        "y =  int (input(\"Enter the value of y:\"))\n",
        "sum= x+y\n",
        "print( f\"sum of {x} and {y} is {sum}\")"
      ]
    },
    {
      "cell_type": "code",
      "execution_count": null,
      "id": "11b45b21-cfa2-47e1-a09d-8eff8d938d21",
      "metadata": {
        "id": "11b45b21-cfa2-47e1-a09d-8eff8d938d21",
        "outputId": "0628e3e3-603d-46fe-f38a-43148f8b408c"
      },
      "outputs": [
        {
          "data": {
            "text/plain": [
              "1"
            ]
          },
          "execution_count": 41,
          "metadata": {},
          "output_type": "execute_result"
        }
      ],
      "source": [
        "#operator\n",
        "2+3 #addition\n",
        "5-6 #substraction\n",
        "5*4 #multiplication\n",
        "2**5 #for power (square)\n",
        "2**5 #for cube\n",
        "5/2.5 #division\n",
        "5//2 # division opearator in tbe o/p\n",
        "5%2 #modulus"
      ]
    },
    {
      "cell_type": "code",
      "execution_count": null,
      "id": "73a61662-2a23-4127-b3b1-46fa168d5891",
      "metadata": {
        "id": "73a61662-2a23-4127-b3b1-46fa168d5891",
        "outputId": "b1a120e5-0aa4-4448-c598-89799a312896"
      },
      "outputs": [
        {
          "data": {
            "text/plain": [
              "6"
            ]
          },
          "execution_count": 43,
          "metadata": {},
          "output_type": "execute_result"
        }
      ],
      "source": [
        "name ='ramesh'\n",
        "len(name)"
      ]
    },
    {
      "cell_type": "code",
      "execution_count": null,
      "id": "4f006fc3-bdae-469f-b1a3-2dd8b6d6f104",
      "metadata": {
        "id": "4f006fc3-bdae-469f-b1a3-2dd8b6d6f104"
      },
      "outputs": [],
      "source": [
        "#precedence\n",
        "#small bracket\n",
        "#and\n",
        "#or\n"
      ]
    },
    {
      "cell_type": "code",
      "execution_count": null,
      "id": "20b2bc5f-95dc-4298-bb58-995146eecf97",
      "metadata": {
        "id": "20b2bc5f-95dc-4298-bb58-995146eecf97",
        "outputId": "4d47c29b-fc97-489b-f8a5-0b52b576cdaf"
      },
      "outputs": [
        {
          "data": {
            "text/plain": [
              "False"
            ]
          },
          "execution_count": 47,
          "metadata": {},
          "output_type": "execute_result"
        }
      ],
      "source": [
        "len('apple')==len('banana')"
      ]
    },
    {
      "cell_type": "code",
      "execution_count": null,
      "id": "f1b7327d-e005-4fc4-b7d8-e57ae3752e4f",
      "metadata": {
        "id": "f1b7327d-e005-4fc4-b7d8-e57ae3752e4f",
        "outputId": "1e2acda3-534d-4a1b-9c4c-cf0d6793a524"
      },
      "outputs": [
        {
          "data": {
            "text/plain": [
              "False"
            ]
          },
          "execution_count": 49,
          "metadata": {},
          "output_type": "execute_result"
        }
      ],
      "source": [
        "False or True and False\n",
        "#false or false\n",
        "#false"
      ]
    },
    {
      "cell_type": "code",
      "execution_count": null,
      "id": "d174dc7a-e0bd-42a1-8fcc-5a72609155f9",
      "metadata": {
        "id": "d174dc7a-e0bd-42a1-8fcc-5a72609155f9"
      },
      "outputs": [],
      "source": [
        "#assignment operator\n",
        "x=5\n"
      ]
    },
    {
      "cell_type": "code",
      "execution_count": null,
      "id": "eb3fd7b4-9645-4c99-a771-3b6d46924e70",
      "metadata": {
        "id": "eb3fd7b4-9645-4c99-a771-3b6d46924e70",
        "outputId": "7c7e8c21-021f-4899-e9e8-d1b2f3f74b1b"
      },
      "outputs": [
        {
          "name": "stdout",
          "output_type": "stream",
          "text": [
            "140709148375512\n",
            "140709148375512\n"
          ]
        },
        {
          "data": {
            "text/plain": [
              "True"
            ]
          },
          "execution_count": 53,
          "metadata": {},
          "output_type": "execute_result"
        }
      ],
      "source": [
        "x=2\n",
        "y=2\n",
        "print (id(x))\n",
        "print(id(y))\n",
        "x is y # memory address>= identity operator (same memory address am cha ki nai check garna is use hunchha)\n"
      ]
    },
    {
      "cell_type": "code",
      "execution_count": null,
      "id": "89a50168-e729-4b0a-8e9d-56685e5a6523",
      "metadata": {
        "id": "89a50168-e729-4b0a-8e9d-56685e5a6523",
        "outputId": "234e2ca3-29b5-4fff-d222-47cfde6c3112"
      },
      "outputs": [
        {
          "data": {
            "text/plain": [
              "True"
            ]
          },
          "execution_count": 55,
          "metadata": {},
          "output_type": "execute_result"
        }
      ],
      "source": [
        "#membership operator\n",
        "1 in [1,2,3,4,5,6]"
      ]
    },
    {
      "cell_type": "code",
      "execution_count": null,
      "id": "acfeff36-417a-4215-8eb1-cd62833ddec4",
      "metadata": {
        "id": "acfeff36-417a-4215-8eb1-cd62833ddec4",
        "outputId": "1225912f-2919-4d06-c2ce-503c1653f2ec"
      },
      "outputs": [
        {
          "data": {
            "text/plain": [
              "False"
            ]
          },
          "execution_count": 57,
          "metadata": {},
          "output_type": "execute_result"
        }
      ],
      "source": [
        "'a' in ['A','b',2,3]"
      ]
    },
    {
      "cell_type": "code",
      "execution_count": null,
      "id": "22ca0864-29c6-4d21-ace6-befc662136cf",
      "metadata": {
        "id": "22ca0864-29c6-4d21-ace6-befc662136cf",
        "outputId": "3969399a-0862-4276-cb27-18024ffca8bf"
      },
      "outputs": [
        {
          "data": {
            "text/plain": [
              "True"
            ]
          },
          "execution_count": 59,
          "metadata": {},
          "output_type": "execute_result"
        }
      ],
      "source": [
        "'r' in 'ramesh'"
      ]
    },
    {
      "cell_type": "code",
      "execution_count": null,
      "id": "8241ba46-3eab-4d12-9a4f-36994e81d739",
      "metadata": {
        "id": "8241ba46-3eab-4d12-9a4f-36994e81d739",
        "outputId": "f92ed1d0-e26e-4792-dcd3-bcf90baad597"
      },
      "outputs": [
        {
          "data": {
            "text/plain": [
              "False"
            ]
          },
          "execution_count": 61,
          "metadata": {},
          "output_type": "execute_result"
        }
      ],
      "source": [
        "'re ' in 'ramesh'\n"
      ]
    },
    {
      "cell_type": "code",
      "execution_count": null,
      "id": "48f51e41-a6fe-452d-b67c-71a5e73a0102",
      "metadata": {
        "id": "48f51e41-a6fe-452d-b67c-71a5e73a0102",
        "outputId": "d3de5cfc-d37f-48fe-c637-73782334fad7"
      },
      "outputs": [
        {
          "data": {
            "text/plain": [
              "False"
            ]
          },
          "execution_count": 63,
          "metadata": {},
          "output_type": "execute_result"
        }
      ],
      "source": [
        "'a' in ('A','b',2,3)"
      ]
    },
    {
      "cell_type": "code",
      "execution_count": null,
      "id": "f6778063-7f00-49e3-a4d5-368aa8535184",
      "metadata": {
        "id": "f6778063-7f00-49e3-a4d5-368aa8535184",
        "outputId": "f7f48a09-9649-40fa-8b64-a18c70e3613e"
      },
      "outputs": [
        {
          "name": "stdout",
          "output_type": "stream",
          "text": [
            "0.12345678901234568\n"
          ]
        }
      ],
      "source": [
        "#17 number after decimal point\n",
        "b=0.1234567890123456789\n",
        "print(b)"
      ]
    },
    {
      "cell_type": "code",
      "execution_count": null,
      "id": "c839497f-7160-4a59-a903-991a963cfaed",
      "metadata": {
        "id": "c839497f-7160-4a59-a903-991a963cfaed",
        "outputId": "28922eb7-f2c9-4460-8afc-4afe742546d4"
      },
      "outputs": [
        {
          "data": {
            "text/plain": [
              "False"
            ]
          },
          "execution_count": 67,
          "metadata": {},
          "output_type": "execute_result"
        }
      ],
      "source": [
        "(1.1+2.2)==3.3\n"
      ]
    },
    {
      "cell_type": "code",
      "execution_count": null,
      "id": "6f4ee1cf-f991-4736-aa56-f34a3ee928b3",
      "metadata": {
        "id": "6f4ee1cf-f991-4736-aa56-f34a3ee928b3",
        "outputId": "933dbf01-8810-42fa-8038-cfbae48b1eb7"
      },
      "outputs": [
        {
          "data": {
            "text/plain": [
              "3.3000000000000003"
            ]
          },
          "execution_count": 69,
          "metadata": {},
          "output_type": "execute_result"
        }
      ],
      "source": [
        "1.1+2.2\n"
      ]
    },
    {
      "cell_type": "code",
      "execution_count": null,
      "id": "bc2eaf10-88d9-4bca-9682-090ed967e4d3",
      "metadata": {
        "id": "bc2eaf10-88d9-4bca-9682-090ed967e4d3",
        "outputId": "6f29fc27-89b6-4d9e-987b-22e4f1e80c98"
      },
      "outputs": [
        {
          "name": "stdout",
          "output_type": "stream",
          "text": [
            "3.3\n"
          ]
        }
      ],
      "source": [
        "from decimal import Decimal as D #alias\n",
        "print (D('1.1')+D('2.2'))"
      ]
    },
    {
      "cell_type": "code",
      "execution_count": null,
      "id": "4117a478-e25a-4a49-b5d0-eefca253bbc8",
      "metadata": {
        "id": "4117a478-e25a-4a49-b5d0-eefca253bbc8",
        "outputId": "30a0ffc1-0af8-437e-f01d-bca096c78f01"
      },
      "outputs": [
        {
          "name": "stdout",
          "output_type": "stream",
          "text": [
            "3.141592653589793\n"
          ]
        }
      ],
      "source": [
        "from math import pi\n",
        "print (pi)"
      ]
    },
    {
      "cell_type": "code",
      "execution_count": null,
      "id": "8d637657-0516-4b0c-8dd5-fec7728b190c",
      "metadata": {
        "id": "8d637657-0516-4b0c-8dd5-fec7728b190c"
      },
      "outputs": [],
      "source": [
        "# math , decimal are modules in python"
      ]
    },
    {
      "cell_type": "code",
      "execution_count": null,
      "id": "2d73b20c-9ec3-4b3a-9b97-2e92685d3496",
      "metadata": {
        "id": "2d73b20c-9ec3-4b3a-9b97-2e92685d3496",
        "outputId": "dcb8e688-82c7-4c06-e69a-690168faf5c8"
      },
      "outputs": [
        {
          "name": "stdout",
          "output_type": "stream",
          "text": [
            "3.141592653589793\n",
            "-1.0\n",
            "22026.465794806718\n",
            "3.0\n"
          ]
        }
      ],
      "source": [
        "import math\n",
        "print(math.pi)\n",
        "print(math.cos(math.pi)) #cos(pi)= -1\n",
        "print(math.exp(10))\n",
        "print(math.log10(1000)) #log10(1000)=3"
      ]
    },
    {
      "cell_type": "code",
      "execution_count": null,
      "id": "813acb50-ab04-4df0-80bf-7172c8c0cd76",
      "metadata": {
        "id": "813acb50-ab04-4df0-80bf-7172c8c0cd76",
        "outputId": "ed73c5df-fa20-4645-e1b5-33baa828a684"
      },
      "outputs": [
        {
          "name": "stdout",
          "output_type": "stream",
          "text": [
            "Help on built-in module math:\n",
            "\n",
            "NAME\n",
            "    math\n",
            "\n",
            "DESCRIPTION\n",
            "    This module provides access to the mathematical functions\n",
            "    defined by the C standard.\n",
            "\n",
            "FUNCTIONS\n",
            "    acos(x, /)\n",
            "        Return the arc cosine (measured in radians) of x.\n",
            "\n",
            "        The result is between 0 and pi.\n",
            "\n",
            "    acosh(x, /)\n",
            "        Return the inverse hyperbolic cosine of x.\n",
            "\n",
            "    asin(x, /)\n",
            "        Return the arc sine (measured in radians) of x.\n",
            "\n",
            "        The result is between -pi/2 and pi/2.\n",
            "\n",
            "    asinh(x, /)\n",
            "        Return the inverse hyperbolic sine of x.\n",
            "\n",
            "    atan(x, /)\n",
            "        Return the arc tangent (measured in radians) of x.\n",
            "\n",
            "        The result is between -pi/2 and pi/2.\n",
            "\n",
            "    atan2(y, x, /)\n",
            "        Return the arc tangent (measured in radians) of y/x.\n",
            "\n",
            "        Unlike atan(y/x), the signs of both x and y are considered.\n",
            "\n",
            "    atanh(x, /)\n",
            "        Return the inverse hyperbolic tangent of x.\n",
            "\n",
            "    cbrt(x, /)\n",
            "        Return the cube root of x.\n",
            "\n",
            "    ceil(x, /)\n",
            "        Return the ceiling of x as an Integral.\n",
            "\n",
            "        This is the smallest integer >= x.\n",
            "\n",
            "    comb(n, k, /)\n",
            "        Number of ways to choose k items from n items without repetition and without order.\n",
            "\n",
            "        Evaluates to n! / (k! * (n - k)!) when k <= n and evaluates\n",
            "        to zero when k > n.\n",
            "\n",
            "        Also called the binomial coefficient because it is equivalent\n",
            "        to the coefficient of k-th term in polynomial expansion of the\n",
            "        expression (1 + x)**n.\n",
            "\n",
            "        Raises TypeError if either of the arguments are not integers.\n",
            "        Raises ValueError if either of the arguments are negative.\n",
            "\n",
            "    copysign(x, y, /)\n",
            "        Return a float with the magnitude (absolute value) of x but the sign of y.\n",
            "\n",
            "        On platforms that support signed zeros, copysign(1.0, -0.0)\n",
            "        returns -1.0.\n",
            "\n",
            "    cos(x, /)\n",
            "        Return the cosine of x (measured in radians).\n",
            "\n",
            "    cosh(x, /)\n",
            "        Return the hyperbolic cosine of x.\n",
            "\n",
            "    degrees(x, /)\n",
            "        Convert angle x from radians to degrees.\n",
            "\n",
            "    dist(p, q, /)\n",
            "        Return the Euclidean distance between two points p and q.\n",
            "\n",
            "        The points should be specified as sequences (or iterables) of\n",
            "        coordinates.  Both inputs must have the same dimension.\n",
            "\n",
            "        Roughly equivalent to:\n",
            "            sqrt(sum((px - qx) ** 2.0 for px, qx in zip(p, q)))\n",
            "\n",
            "    erf(x, /)\n",
            "        Error function at x.\n",
            "\n",
            "    erfc(x, /)\n",
            "        Complementary error function at x.\n",
            "\n",
            "    exp(x, /)\n",
            "        Return e raised to the power of x.\n",
            "\n",
            "    exp2(x, /)\n",
            "        Return 2 raised to the power of x.\n",
            "\n",
            "    expm1(x, /)\n",
            "        Return exp(x)-1.\n",
            "\n",
            "        This function avoids the loss of precision involved in the direct evaluation of exp(x)-1 for small x.\n",
            "\n",
            "    fabs(x, /)\n",
            "        Return the absolute value of the float x.\n",
            "\n",
            "    factorial(n, /)\n",
            "        Find n!.\n",
            "\n",
            "        Raise a ValueError if x is negative or non-integral.\n",
            "\n",
            "    floor(x, /)\n",
            "        Return the floor of x as an Integral.\n",
            "\n",
            "        This is the largest integer <= x.\n",
            "\n",
            "    fmod(x, y, /)\n",
            "        Return fmod(x, y), according to platform C.\n",
            "\n",
            "        x % y may differ.\n",
            "\n",
            "    frexp(x, /)\n",
            "        Return the mantissa and exponent of x, as pair (m, e).\n",
            "\n",
            "        m is a float and e is an int, such that x = m * 2.**e.\n",
            "        If x is 0, m and e are both 0.  Else 0.5 <= abs(m) < 1.0.\n",
            "\n",
            "    fsum(seq, /)\n",
            "        Return an accurate floating point sum of values in the iterable seq.\n",
            "\n",
            "        Assumes IEEE-754 floating point arithmetic.\n",
            "\n",
            "    gamma(x, /)\n",
            "        Gamma function at x.\n",
            "\n",
            "    gcd(*integers)\n",
            "        Greatest Common Divisor.\n",
            "\n",
            "    hypot(...)\n",
            "        hypot(*coordinates) -> value\n",
            "\n",
            "        Multidimensional Euclidean distance from the origin to a point.\n",
            "\n",
            "        Roughly equivalent to:\n",
            "            sqrt(sum(x**2 for x in coordinates))\n",
            "\n",
            "        For a two dimensional point (x, y), gives the hypotenuse\n",
            "        using the Pythagorean theorem:  sqrt(x*x + y*y).\n",
            "\n",
            "        For example, the hypotenuse of a 3/4/5 right triangle is:\n",
            "\n",
            "            >>> hypot(3.0, 4.0)\n",
            "            5.0\n",
            "\n",
            "    isclose(a, b, *, rel_tol=1e-09, abs_tol=0.0)\n",
            "        Determine whether two floating point numbers are close in value.\n",
            "\n",
            "          rel_tol\n",
            "            maximum difference for being considered \"close\", relative to the\n",
            "            magnitude of the input values\n",
            "          abs_tol\n",
            "            maximum difference for being considered \"close\", regardless of the\n",
            "            magnitude of the input values\n",
            "\n",
            "        Return True if a is close in value to b, and False otherwise.\n",
            "\n",
            "        For the values to be considered close, the difference between them\n",
            "        must be smaller than at least one of the tolerances.\n",
            "\n",
            "        -inf, inf and NaN behave similarly to the IEEE 754 Standard.  That\n",
            "        is, NaN is not close to anything, even itself.  inf and -inf are\n",
            "        only close to themselves.\n",
            "\n",
            "    isfinite(x, /)\n",
            "        Return True if x is neither an infinity nor a NaN, and False otherwise.\n",
            "\n",
            "    isinf(x, /)\n",
            "        Return True if x is a positive or negative infinity, and False otherwise.\n",
            "\n",
            "    isnan(x, /)\n",
            "        Return True if x is a NaN (not a number), and False otherwise.\n",
            "\n",
            "    isqrt(n, /)\n",
            "        Return the integer part of the square root of the input.\n",
            "\n",
            "    lcm(*integers)\n",
            "        Least Common Multiple.\n",
            "\n",
            "    ldexp(x, i, /)\n",
            "        Return x * (2**i).\n",
            "\n",
            "        This is essentially the inverse of frexp().\n",
            "\n",
            "    lgamma(x, /)\n",
            "        Natural logarithm of absolute value of Gamma function at x.\n",
            "\n",
            "    log(...)\n",
            "        log(x, [base=math.e])\n",
            "        Return the logarithm of x to the given base.\n",
            "\n",
            "        If the base is not specified, returns the natural logarithm (base e) of x.\n",
            "\n",
            "    log10(x, /)\n",
            "        Return the base 10 logarithm of x.\n",
            "\n",
            "    log1p(x, /)\n",
            "        Return the natural logarithm of 1+x (base e).\n",
            "\n",
            "        The result is computed in a way which is accurate for x near zero.\n",
            "\n",
            "    log2(x, /)\n",
            "        Return the base 2 logarithm of x.\n",
            "\n",
            "    modf(x, /)\n",
            "        Return the fractional and integer parts of x.\n",
            "\n",
            "        Both results carry the sign of x and are floats.\n",
            "\n",
            "    nextafter(x, y, /, *, steps=None)\n",
            "        Return the floating-point value the given number of steps after x towards y.\n",
            "\n",
            "        If steps is not specified or is None, it defaults to 1.\n",
            "\n",
            "        Raises a TypeError, if x or y is not a double, or if steps is not an integer.\n",
            "        Raises ValueError if steps is negative.\n",
            "\n",
            "    perm(n, k=None, /)\n",
            "        Number of ways to choose k items from n items without repetition and with order.\n",
            "\n",
            "        Evaluates to n! / (n - k)! when k <= n and evaluates\n",
            "        to zero when k > n.\n",
            "\n",
            "        If k is not specified or is None, then k defaults to n\n",
            "        and the function returns n!.\n",
            "\n",
            "        Raises TypeError if either of the arguments are not integers.\n",
            "        Raises ValueError if either of the arguments are negative.\n",
            "\n",
            "    pow(x, y, /)\n",
            "        Return x**y (x to the power of y).\n",
            "\n",
            "    prod(iterable, /, *, start=1)\n",
            "        Calculate the product of all the elements in the input iterable.\n",
            "\n",
            "        The default start value for the product is 1.\n",
            "\n",
            "        When the iterable is empty, return the start value.  This function is\n",
            "        intended specifically for use with numeric values and may reject\n",
            "        non-numeric types.\n",
            "\n",
            "    radians(x, /)\n",
            "        Convert angle x from degrees to radians.\n",
            "\n",
            "    remainder(x, y, /)\n",
            "        Difference between x and the closest integer multiple of y.\n",
            "\n",
            "        Return x - n*y where n*y is the closest integer multiple of y.\n",
            "        In the case where x is exactly halfway between two multiples of\n",
            "        y, the nearest even value of n is used. The result is always exact.\n",
            "\n",
            "    sin(x, /)\n",
            "        Return the sine of x (measured in radians).\n",
            "\n",
            "    sinh(x, /)\n",
            "        Return the hyperbolic sine of x.\n",
            "\n",
            "    sqrt(x, /)\n",
            "        Return the square root of x.\n",
            "\n",
            "    sumprod(p, q, /)\n",
            "        Return the sum of products of values from two iterables p and q.\n",
            "\n",
            "        Roughly equivalent to:\n",
            "\n",
            "            sum(itertools.starmap(operator.mul, zip(p, q, strict=True)))\n",
            "\n",
            "        For float and mixed int/float inputs, the intermediate products\n",
            "        and sums are computed with extended precision.\n",
            "\n",
            "    tan(x, /)\n",
            "        Return the tangent of x (measured in radians).\n",
            "\n",
            "    tanh(x, /)\n",
            "        Return the hyperbolic tangent of x.\n",
            "\n",
            "    trunc(x, /)\n",
            "        Truncates the Real x to the nearest Integral toward 0.\n",
            "\n",
            "        Uses the __trunc__ magic method.\n",
            "\n",
            "    ulp(x, /)\n",
            "        Return the value of the least significant bit of the float x.\n",
            "\n",
            "DATA\n",
            "    e = 2.718281828459045\n",
            "    inf = inf\n",
            "    nan = nan\n",
            "    pi = 3.141592653589793\n",
            "    tau = 6.283185307179586\n",
            "\n",
            "FILE\n",
            "    (built-in)\n",
            "\n",
            "\n"
          ]
        }
      ],
      "source": [
        "help (math)\n"
      ]
    },
    {
      "cell_type": "code",
      "execution_count": null,
      "id": "22a4462c-ad0a-48bc-b5e6-1c2127bec12f",
      "metadata": {
        "id": "22a4462c-ad0a-48bc-b5e6-1c2127bec12f",
        "outputId": "c8862a1c-2134-4243-ca5a-d77c1ac38149"
      },
      "outputs": [
        {
          "name": "stdout",
          "output_type": "stream",
          "text": [
            "This is string. <class 'str'>\n"
          ]
        }
      ],
      "source": [
        "s=\"This is string.\"\n",
        "print(s,type(s))"
      ]
    },
    {
      "cell_type": "code",
      "execution_count": null,
      "id": "a98054a5-06cb-417b-8e5a-6ec35afe8ba1",
      "metadata": {
        "id": "a98054a5-06cb-417b-8e5a-6ec35afe8ba1",
        "outputId": "3d85962e-e32e-42cd-b79e-ad03ab6cf809"
      },
      "outputs": [
        {
          "name": "stdout",
          "output_type": "stream",
          "text": [
            "i\n"
          ]
        }
      ],
      "source": [
        "s=\"This is string.\"\n",
        "print(s[5])"
      ]
    },
    {
      "cell_type": "code",
      "execution_count": null,
      "id": "f8082a2f-9702-47ff-a337-d06e108482bd",
      "metadata": {
        "id": "f8082a2f-9702-47ff-a337-d06e108482bd",
        "outputId": "62e7e59c-d898-4155-d882-c0ca31dc3b75"
      },
      "outputs": [
        {
          "data": {
            "text/plain": [
              "'This'"
            ]
          },
          "execution_count": 91,
          "metadata": {},
          "output_type": "execute_result"
        }
      ],
      "source": [
        "s=\"This is string.\"\n",
        "s[0:4]#slicing"
      ]
    },
    {
      "cell_type": "code",
      "execution_count": null,
      "id": "2713457c-54a1-40a3-853e-e2ffa9dc20c8",
      "metadata": {
        "id": "2713457c-54a1-40a3-853e-e2ffa9dc20c8",
        "outputId": "888c1be0-263e-4bc0-eeb9-fd49cb039571"
      },
      "outputs": [
        {
          "name": "stdout",
          "output_type": "stream",
          "text": [
            "T h i s\n"
          ]
        }
      ],
      "source": [
        "s=\"This is string.\"\n",
        "print(s[0],s[1],s[2],s[3])"
      ]
    },
    {
      "cell_type": "code",
      "execution_count": null,
      "id": "f6bb71e6-059f-4f74-be8b-b40a6806f26a",
      "metadata": {
        "id": "f6bb71e6-059f-4f74-be8b-b40a6806f26a",
        "outputId": "3b8c4863-f841-4c13-e582-0c03224289b8"
      },
      "outputs": [
        {
          "data": {
            "text/plain": [
              "'e'"
            ]
          },
          "execution_count": 101,
          "metadata": {},
          "output_type": "execute_result"
        }
      ],
      "source": [
        "s=\"This is string. strings in python are immutable.\" #e 46 ma raichhaa so s[46] lekhelo e display garauna ko lagi\n",
        "s[46]"
      ]
    },
    {
      "cell_type": "code",
      "execution_count": null,
      "id": "e11e63f8-033b-436b-b95e-1b4e653edb71",
      "metadata": {
        "id": "e11e63f8-033b-436b-b95e-1b4e653edb71",
        "outputId": "c24ddd8d-8960-4496-c338-c71021179d33"
      },
      "outputs": [
        {
          "data": {
            "text/plain": [
              "'e'"
            ]
          },
          "execution_count": 99,
          "metadata": {},
          "output_type": "execute_result"
        }
      ],
      "source": [
        "s=\"This is string. strings in python are immutable.\"\n",
        "s[-2] #negative indexing"
      ]
    },
    {
      "cell_type": "code",
      "execution_count": null,
      "id": "c7e0bef4-df44-4c31-b737-737f6b418003",
      "metadata": {
        "id": "c7e0bef4-df44-4c31-b737-737f6b418003"
      },
      "outputs": [],
      "source": []
    }
  ],
  "metadata": {
    "kernelspec": {
      "display_name": "Python 3 (ipykernel)",
      "language": "python",
      "name": "python3"
    },
    "language_info": {
      "codemirror_mode": {
        "name": "ipython",
        "version": 3
      },
      "file_extension": ".py",
      "mimetype": "text/x-python",
      "name": "python",
      "nbconvert_exporter": "python",
      "pygments_lexer": "ipython3",
      "version": "3.12.4"
    },
    "colab": {
      "provenance": [],
      "include_colab_link": true
    }
  },
  "nbformat": 4,
  "nbformat_minor": 5
}