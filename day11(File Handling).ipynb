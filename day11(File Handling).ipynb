{
 "cells": [
  {
   "cell_type": "code",
   "execution_count": 1,
   "id": "41f13d6c-9b35-4a36-a732-32cb1450d0aa",
   "metadata": {},
   "outputs": [],
   "source": [
    "#File Handling"
   ]
  },
  {
   "cell_type": "code",
   "execution_count": 43,
   "id": "86edc537-b770-4760-b865-14f1fbd627b1",
   "metadata": {},
   "outputs": [],
   "source": [
    "f= open(\"hello.txt\",\"w\")# kunei yeutaa hello.txt vanne file banayem\n",
    "f.write(\"Hello World!\") # tyo file vitra HEllo world lekheko\n",
    "f.close()# file lai open garepachi close pani garnu parchha"
   ]
  },
  {
   "cell_type": "code",
   "execution_count": 6,
   "id": "079b91be-d166-4465-970d-172fbe79844e",
   "metadata": {},
   "outputs": [],
   "source": [
    "# error / exception handling\n"
   ]
  },
  {
   "cell_type": "code",
   "execution_count": 7,
   "id": "21c2114b-cc15-48d8-a2b6-90565d8754ff",
   "metadata": {},
   "outputs": [],
   "source": [
    "def division(a,b):\n",
    "    div = a/b\n",
    "    return div"
   ]
  },
  {
   "cell_type": "code",
   "execution_count": 8,
   "id": "d1a9acd2-031a-4e11-b535-e8f155aecdff",
   "metadata": {},
   "outputs": [
    {
     "data": {
      "text/plain": [
       "2.0"
      ]
     },
     "execution_count": 8,
     "metadata": {},
     "output_type": "execute_result"
    }
   ],
   "source": [
    "division(4,2)"
   ]
  },
  {
   "cell_type": "code",
   "execution_count": 9,
   "id": "21b26345-e4c7-487e-a3e7-45b4155e07e9",
   "metadata": {},
   "outputs": [
    {
     "ename": "ZeroDivisionError",
     "evalue": "division by zero",
     "output_type": "error",
     "traceback": [
      "\u001b[31m---------------------------------------------------------------------------\u001b[39m",
      "\u001b[31mZeroDivisionError\u001b[39m                         Traceback (most recent call last)",
      "\u001b[36mCell\u001b[39m\u001b[36m \u001b[39m\u001b[32mIn[9]\u001b[39m\u001b[32m, line 1\u001b[39m\n\u001b[32m----> \u001b[39m\u001b[32m1\u001b[39m \u001b[43mdivision\u001b[49m\u001b[43m(\u001b[49m\u001b[32;43m4\u001b[39;49m\u001b[43m,\u001b[49m\u001b[32;43m0\u001b[39;49m\u001b[43m)\u001b[49m\n",
      "\u001b[36mCell\u001b[39m\u001b[36m \u001b[39m\u001b[32mIn[7]\u001b[39m\u001b[32m, line 2\u001b[39m, in \u001b[36mdivision\u001b[39m\u001b[34m(a, b)\u001b[39m\n\u001b[32m      1\u001b[39m \u001b[38;5;28;01mdef\u001b[39;00m\u001b[38;5;250m \u001b[39m\u001b[34mdivision\u001b[39m(a,b):\n\u001b[32m----> \u001b[39m\u001b[32m2\u001b[39m     div = \u001b[43ma\u001b[49m\u001b[43m/\u001b[49m\u001b[43mb\u001b[49m\n\u001b[32m      3\u001b[39m     \u001b[38;5;28;01mreturn\u001b[39;00m div\n",
      "\u001b[31mZeroDivisionError\u001b[39m: division by zero"
     ]
    }
   ],
   "source": [
    "division(4,0) # error aayo because 4/0 => infinite"
   ]
  },
  {
   "cell_type": "code",
   "execution_count": 10,
   "id": "4d26fb8e-a81d-45f6-b8b0-82159ad9358a",
   "metadata": {},
   "outputs": [],
   "source": [
    "#now handling this error using try keyword"
   ]
  },
  {
   "cell_type": "code",
   "execution_count": 11,
   "id": "02b31e87-1beb-4053-8fbe-9984c87eeb8e",
   "metadata": {},
   "outputs": [],
   "source": [
    "def division(a,b):\n",
    "    try:\n",
    "      div = a/b\n",
    "      return div\n",
    "    except ZeroDivisionError:\n",
    "        print(\"Cannot divide by 0\")"
   ]
  },
  {
   "cell_type": "code",
   "execution_count": 12,
   "id": "c5716ae6-43ce-49e8-a596-baaccee2126a",
   "metadata": {},
   "outputs": [
    {
     "data": {
      "text/plain": [
       "2.0"
      ]
     },
     "execution_count": 12,
     "metadata": {},
     "output_type": "execute_result"
    }
   ],
   "source": [
    "division(4,2)"
   ]
  },
  {
   "cell_type": "code",
   "execution_count": 13,
   "id": "55407358-25a0-4b03-9466-2b53c7d973dd",
   "metadata": {},
   "outputs": [
    {
     "name": "stdout",
     "output_type": "stream",
     "text": [
      "Cannot divide by 0\n",
      "hello\n"
     ]
    }
   ],
   "source": [
    "division(4,0)\n",
    "print(\"hello\")"
   ]
  },
  {
   "cell_type": "code",
   "execution_count": 14,
   "id": "a2633bbf-eb79-4a07-9daa-e54b87110a56",
   "metadata": {},
   "outputs": [
    {
     "ename": "TypeError",
     "evalue": "unsupported operand type(s) for /: 'int' and 'str'",
     "output_type": "error",
     "traceback": [
      "\u001b[31m---------------------------------------------------------------------------\u001b[39m",
      "\u001b[31mTypeError\u001b[39m                                 Traceback (most recent call last)",
      "\u001b[36mCell\u001b[39m\u001b[36m \u001b[39m\u001b[32mIn[14]\u001b[39m\u001b[32m, line 1\u001b[39m\n\u001b[32m----> \u001b[39m\u001b[32m1\u001b[39m \u001b[43mdivision\u001b[49m\u001b[43m(\u001b[49m\u001b[32;43m4\u001b[39;49m\u001b[43m,\u001b[49m\u001b[33;43m'\u001b[39;49m\u001b[33;43ma\u001b[39;49m\u001b[33;43m'\u001b[39;49m\u001b[43m)\u001b[49m\n",
      "\u001b[36mCell\u001b[39m\u001b[36m \u001b[39m\u001b[32mIn[11]\u001b[39m\u001b[32m, line 3\u001b[39m, in \u001b[36mdivision\u001b[39m\u001b[34m(a, b)\u001b[39m\n\u001b[32m      1\u001b[39m \u001b[38;5;28;01mdef\u001b[39;00m\u001b[38;5;250m \u001b[39m\u001b[34mdivision\u001b[39m(a,b):\n\u001b[32m      2\u001b[39m     \u001b[38;5;28;01mtry\u001b[39;00m:\n\u001b[32m----> \u001b[39m\u001b[32m3\u001b[39m       div = \u001b[43ma\u001b[49m\u001b[43m/\u001b[49m\u001b[43mb\u001b[49m\n\u001b[32m      4\u001b[39m       \u001b[38;5;28;01mreturn\u001b[39;00m div\n\u001b[32m      5\u001b[39m     \u001b[38;5;28;01mexcept\u001b[39;00m \u001b[38;5;167;01mZeroDivisionError\u001b[39;00m:\n",
      "\u001b[31mTypeError\u001b[39m: unsupported operand type(s) for /: 'int' and 'str'"
     ]
    }
   ],
   "source": [
    "division(4,'a')# hamley type error handle garnaa except gareko chhainam so error aayo"
   ]
  },
  {
   "cell_type": "code",
   "execution_count": 15,
   "id": "42780c08-7781-412f-bf2c-6ec6002943f8",
   "metadata": {},
   "outputs": [],
   "source": [
    "def division(a,b):\n",
    "    try:\n",
    "      div = a/b\n",
    "      return div\n",
    "    except ZeroDivisionError:\n",
    "        print(\"Cannot divide by 0\")\n",
    "    except TypeError: #type error handle garna lai\n",
    "        print(\"Invalid datatype\")"
   ]
  },
  {
   "cell_type": "code",
   "execution_count": 16,
   "id": "59704f16-5678-40d0-81ba-7a2cce78bdf3",
   "metadata": {},
   "outputs": [
    {
     "name": "stdout",
     "output_type": "stream",
     "text": [
      "Invalid datatype\n"
     ]
    }
   ],
   "source": [
    "division(4,'a')"
   ]
  },
  {
   "cell_type": "code",
   "execution_count": 26,
   "id": "5f632f84-d228-4b05-a0e6-45dbf342055d",
   "metadata": {},
   "outputs": [],
   "source": [
    "def division(a,b):\n",
    "    try:\n",
    "      div = a/b\n",
    "      return div\n",
    "    except ZeroDivisionError:\n",
    "        print(\"Cannot divide by 0\")\n",
    "    except TypeError: #type error handle garna lai\n",
    "        print(\"Invalid datatype\")\n",
    "    except Exception as e: # jasto type  ko error pani  handle garna lai\n",
    "        #hamilai thhaa hudena nita kasto error aauchaa so all kind og error handle garna\n",
    "        print(e)"
   ]
  },
  {
   "cell_type": "code",
   "execution_count": 22,
   "id": "348e0e86-6e1d-40e9-8304-eb74e6eeaabb",
   "metadata": {},
   "outputs": [],
   "source": [
    "#sidei Exception garera handle garesi aru kehi garnu parenaa\n",
    "def division(a,b):\n",
    "    try:\n",
    "      div = a/b\n",
    "      return div \n",
    "    except Exception as e: # jasto type  ko error pani  handle garna lai\n",
    "        #hamilai thhaa hudena nita kasto error aauchaa so all kind og error handle garna\n",
    "        print(e)"
   ]
  },
  {
   "cell_type": "code",
   "execution_count": 23,
   "id": "7704ac5c-b132-4a45-bb71-6afe36960563",
   "metadata": {},
   "outputs": [
    {
     "data": {
      "text/plain": [
       "2.0"
      ]
     },
     "execution_count": 23,
     "metadata": {},
     "output_type": "execute_result"
    }
   ],
   "source": [
    "division(4,2)"
   ]
  },
  {
   "cell_type": "code",
   "execution_count": 24,
   "id": "b9374f3c-e9ce-4fea-bc6e-92b963382c1f",
   "metadata": {},
   "outputs": [
    {
     "name": "stdout",
     "output_type": "stream",
     "text": [
      "division by zero\n"
     ]
    }
   ],
   "source": [
    "division(4,0)"
   ]
  },
  {
   "cell_type": "code",
   "execution_count": 27,
   "id": "ff5692e5-68f3-42b9-b053-389c894039ad",
   "metadata": {},
   "outputs": [
    {
     "name": "stdout",
     "output_type": "stream",
     "text": [
      "Invalid datatype\n"
     ]
    }
   ],
   "source": [
    "division('a',2)"
   ]
  },
  {
   "cell_type": "code",
   "execution_count": 29,
   "id": "35f71500-d877-4a2c-96ed-5b2e70b5ec61",
   "metadata": {},
   "outputs": [],
   "source": [
    "def division(a,b):\n",
    "    try: # try block ko run vayesi except run navaye else ma janchhaa\n",
    "      div = a/b\n",
    "      \n",
    "    except ZeroDivisionError:\n",
    "        print(\"Cannot divide by 0\")\n",
    "    except TypeError: \n",
    "        print(\"Invalid datatype\")\n",
    "    except Exception as e:\n",
    "        print(e)\n",
    "    else:\n",
    "        print(\"I will run  if there is no exception\")\n",
    "        return div"
   ]
  },
  {
   "cell_type": "code",
   "execution_count": 30,
   "id": "e4b61389-1f9e-4953-83be-7e22e25eb886",
   "metadata": {},
   "outputs": [
    {
     "name": "stdout",
     "output_type": "stream",
     "text": [
      "I will run  if there is no exception\n"
     ]
    },
    {
     "data": {
      "text/plain": [
       "2.0"
      ]
     },
     "execution_count": 30,
     "metadata": {},
     "output_type": "execute_result"
    }
   ],
   "source": [
    "division(4,2)"
   ]
  },
  {
   "cell_type": "code",
   "execution_count": 31,
   "id": "01ea4ba5-4bf3-489e-9c7a-99e371a12567",
   "metadata": {},
   "outputs": [
    {
     "name": "stdout",
     "output_type": "stream",
     "text": [
      "Invalid datatype\n"
     ]
    }
   ],
   "source": [
    "division(4,'a')"
   ]
  },
  {
   "cell_type": "code",
   "execution_count": 33,
   "id": "b17fed92-fa17-4dd5-9b64-901e0a5594a2",
   "metadata": {},
   "outputs": [],
   "source": [
    "#finally use garne(error aayos ki naooas yo run hunchha jasei)\n",
    "def division(a,b):\n",
    "    try: # try block ko run vayesi except run navaye else ma janchhaa\n",
    "      div = a/b\n",
    "      \n",
    "    except ZeroDivisionError:\n",
    "        print(\"Cannot divide by 0\")\n",
    "    except TypeError: \n",
    "        print(\"Invalid datatype\")\n",
    "    except Exception as e:\n",
    "        print(e)\n",
    "    else:\n",
    "        print(\"I will run  if there is no exception\")\n",
    "        return div\n",
    "    finally:\n",
    "        print(\"I will run  nomatter what happens in the code\")"
   ]
  },
  {
   "cell_type": "code",
   "execution_count": 34,
   "id": "48f604f0-2f94-45c7-9c00-3be4a8b6eb20",
   "metadata": {},
   "outputs": [
    {
     "name": "stdout",
     "output_type": "stream",
     "text": [
      "I will run  if there is no exception\n",
      "I will run  nomatter what happens in the code\n"
     ]
    },
    {
     "data": {
      "text/plain": [
       "2.0"
      ]
     },
     "execution_count": 34,
     "metadata": {},
     "output_type": "execute_result"
    }
   ],
   "source": [
    "division(4,2)"
   ]
  },
  {
   "cell_type": "code",
   "execution_count": 35,
   "id": "f939843a-c084-4fec-a884-371c89de7794",
   "metadata": {},
   "outputs": [
    {
     "name": "stdout",
     "output_type": "stream",
     "text": [
      "Cannot divide by 0\n",
      "I will run  nomatter what happens in the code\n"
     ]
    }
   ],
   "source": [
    "division(4,0)"
   ]
  },
  {
   "cell_type": "code",
   "execution_count": 36,
   "id": "c8a4593d-1529-479f-b580-4a847f9e27a7",
   "metadata": {},
   "outputs": [
    {
     "ename": "ZeroDivisionError",
     "evalue": "division by zero",
     "output_type": "error",
     "traceback": [
      "\u001b[31m---------------------------------------------------------------------------\u001b[39m",
      "\u001b[31mZeroDivisionError\u001b[39m                         Traceback (most recent call last)",
      "\u001b[36mCell\u001b[39m\u001b[36m \u001b[39m\u001b[32mIn[36]\u001b[39m\u001b[32m, line 3\u001b[39m\n\u001b[32m      1\u001b[39m f = \u001b[38;5;28mopen\u001b[39m(\u001b[33m\"\u001b[39m\u001b[33mhello.txt\u001b[39m\u001b[33m\"\u001b[39m,\u001b[33m\"\u001b[39m\u001b[33mw\u001b[39m\u001b[33m\"\u001b[39m)\n\u001b[32m      2\u001b[39m f.write(\u001b[33m\"\u001b[39m\u001b[33mHello World\u001b[39m\u001b[33m\"\u001b[39m)\n\u001b[32m----> \u001b[39m\u001b[32m3\u001b[39m \u001b[32;43m1\u001b[39;49m\u001b[43m/\u001b[49m\u001b[32;43m0\u001b[39;49m\n\u001b[32m      4\u001b[39m f.close()\n",
      "\u001b[31mZeroDivisionError\u001b[39m: division by zero"
     ]
    }
   ],
   "source": [
    "f = open(\"hello.txt\",\"w\")\n",
    "f.write(\"Hello World\")\n",
    "1/0\n",
    "f.close()"
   ]
  },
  {
   "cell_type": "code",
   "execution_count": 37,
   "id": "ac63103a-0b8d-496e-ac7c-c4b746210b94",
   "metadata": {},
   "outputs": [
    {
     "name": "stdout",
     "output_type": "stream",
     "text": [
      "division by zero\n"
     ]
    }
   ],
   "source": [
    "#handling above error\n",
    "f = open(\"hello.txt\",\"w\")\n",
    "f.write(\"Hello World\")\n",
    "try: \n",
    "  1/0\n",
    "except Exception as e:\n",
    "    print(e)\n",
    "\n",
    "f.close()"
   ]
  },
  {
   "cell_type": "code",
   "execution_count": 44,
   "id": "e74a8674-dd08-4b51-8a32-c1585e5ddbc4",
   "metadata": {},
   "outputs": [
    {
     "name": "stdout",
     "output_type": "stream",
     "text": [
      "Hello World!\n"
     ]
    }
   ],
   "source": [
    "with open(\"hello.txt\",\"r\") as f:\n",
    "    print(f.read())"
   ]
  },
  {
   "cell_type": "code",
   "execution_count": 45,
   "id": "aa448c7f-22ba-42d3-a5f0-c04a82ba8f36",
   "metadata": {},
   "outputs": [
    {
     "data": {
      "text/plain": [
       "True"
      ]
     },
     "execution_count": 45,
     "metadata": {},
     "output_type": "execute_result"
    }
   ],
   "source": [
    "f.closed"
   ]
  },
  {
   "cell_type": "code",
   "execution_count": 47,
   "id": "9bcadf23-1902-438c-9894-f3bbc9703715",
   "metadata": {},
   "outputs": [
    {
     "name": "stdout",
     "output_type": "stream",
     "text": [
      "False\n",
      "Hello World!\n",
      "False\n",
      "True\n"
     ]
    }
   ],
   "source": [
    "with open(\"hello.txt\",\"r\") as f:\n",
    "    print(f.closed)\n",
    "    print(f.read())\n",
    "    print(f.closed)\n",
    "print(f.closed)"
   ]
  },
  {
   "cell_type": "code",
   "execution_count": 48,
   "id": "2529d3e6-2c03-44b1-a091-b0ea18b99d62",
   "metadata": {},
   "outputs": [
    {
     "name": "stdout",
     "output_type": "stream",
     "text": [
      "False\n",
      "Hello World!\n"
     ]
    },
    {
     "ename": "ZeroDivisionError",
     "evalue": "division by zero",
     "output_type": "error",
     "traceback": [
      "\u001b[31m---------------------------------------------------------------------------\u001b[39m",
      "\u001b[31mZeroDivisionError\u001b[39m                         Traceback (most recent call last)",
      "\u001b[36mCell\u001b[39m\u001b[36m \u001b[39m\u001b[32mIn[48]\u001b[39m\u001b[32m, line 4\u001b[39m\n\u001b[32m      2\u001b[39m \u001b[38;5;28mprint\u001b[39m(f.closed)\n\u001b[32m      3\u001b[39m \u001b[38;5;28mprint\u001b[39m(f.read())\n\u001b[32m----> \u001b[39m\u001b[32m4\u001b[39m \u001b[32;43m1\u001b[39;49m\u001b[43m/\u001b[49m\u001b[32;43m0\u001b[39;49m\n",
      "\u001b[31mZeroDivisionError\u001b[39m: division by zero"
     ]
    }
   ],
   "source": [
    "with open(\"hello.txt\",\"r\") as f:\n",
    "    print(f.closed)\n",
    "    print(f.read())\n",
    "    1/0"
   ]
  },
  {
   "cell_type": "code",
   "execution_count": 50,
   "id": "2ea5acb2-3c19-41a3-a011-231167e838b2",
   "metadata": {},
   "outputs": [
    {
     "data": {
      "text/plain": [
       "True"
      ]
     },
     "execution_count": 50,
     "metadata": {},
     "output_type": "execute_result"
    }
   ],
   "source": [
    "f.closed # error aayesi automatically close hunchha"
   ]
  },
  {
   "cell_type": "code",
   "execution_count": 51,
   "id": "3c9d211c-8256-44dc-90c2-d152a4f8bd73",
   "metadata": {},
   "outputs": [
    {
     "name": "stdout",
     "output_type": "stream",
     "text": [
      "Hello World!\n"
     ]
    }
   ],
   "source": [
    "with open(\"hello.txt\",\"r\") as f:\n",
    "    print(f.read())"
   ]
  },
  {
   "cell_type": "code",
   "execution_count": 52,
   "id": "a646c53f-f385-4f1e-b808-62a3cff06182",
   "metadata": {},
   "outputs": [
    {
     "name": "stdout",
     "output_type": "stream",
     "text": [
      "Hello World!\n"
     ]
    }
   ],
   "source": [
    "with open(\"hello.txt\",\"rt\") as f: #default => read in text mode\n",
    "     print(f.read())"
   ]
  },
  {
   "cell_type": "code",
   "execution_count": 53,
   "id": "24cf45d4-9728-420d-9131-0ac6b883316b",
   "metadata": {},
   "outputs": [
    {
     "name": "stdout",
     "output_type": "stream",
     "text": [
      "Hello World!\n"
     ]
    }
   ],
   "source": [
    "with open(\"hello.txt\") as f: #default => read in text mode\n",
    "     print(f.read())"
   ]
  },
  {
   "cell_type": "code",
   "execution_count": 54,
   "id": "a1c36f30-3204-478f-8b11-a262cd09f1b0",
   "metadata": {},
   "outputs": [],
   "source": [
    "#text mode ma binary ma read garnaa meldena so as rb garnu parchha tesko lagu\n",
    "#rb=> read in binary\n",
    "\n"
   ]
  },
  {
   "cell_type": "code",
   "execution_count": 57,
   "id": "99dabd01-b8cc-4770-b55b-90e69f60800a",
   "metadata": {},
   "outputs": [
    {
     "name": "stdout",
     "output_type": "stream",
     "text": [
      "b'\\x89PNG\\r\\n\\x1a\\n\\x00\\x00\\x00\\rIHDR\\x00\\x00\\x00@\\x00\\x00\\x00@\\x08\\x06\\x00\\x00\\x00\\xaaiq\\xde\\x00\\x00\\x00\\x06bKGD\\x00\\xff\\x00\\xff\\x00\\xff\\xa0\\xbd\\xa7\\x93\\x00\\x00\\x00\\tpHYs\\x00\\x00\\x06\\xe6\\x00\\x00\\x06\\xe6\\x01E\\x01\\xf3\\xd9\\x00\\x00\\x00\\x07tIME\\x07\\xde\\x0c\\x0c\\x16\"\\x1a)\\xbd\\xe5\\xde\\x00\\x00\\x08\\x11IDATx\\xda\\xed[}lUg\\x19\\xff=\\xb7\\xa5\"\\xad\\t\\x8a\\x97\\x8dm\\xd1\\xe0:\\x84v\\x93U\\x836\\x8a\\x01u\\x04\\xdd\\xec6\\xc5\\x12\\xc7D\\xa3.\\x93u\\x9a\\x8d\\xb4:\\rn\\xb93\\x88\\xe0\\x18\\x88\\x8bd\\xfee\\xc4i\\xb2\\xa1\\xf8A\\x97\\xc9V\\xb0\\xc0V(\\x13\\xd6t.3\\x1d\\x10#\\xf2Qh7\\xa6\\xa5\\xeb\\xc7=\\xcf\\xcf?\\xee\\xb9\\xe7\\x9es\\xef9\\xe7\\xbe\\xe7\\xf6v;\\xc6\\xbem\\xd3\\xf7\\xbe\\xe7\\xde\\xb7\\xe7\\xf9=\\xcf\\xef\\xf9:o\\x81\\xa915\\xa6\\xc6\\xff\\xf3\\x90\\xc9\\xdc\\xfc\\xe6\\x9ft\\\\6>\\xc6\\xe5$\\xe7\\x03HR\\x99$9\\x9bd\\x12\\xaa\\xb3IN\\'9Hb@\\xa1\\x03\\t\\x8b\\x83\\n\\x0c(\\xac\\x01Q\\xed\\x1d\\x9a6\\xfd\\xc9\\xa3\\xa9\\xa6\\xe1\\xff)\\x00\\x9aS/U\\r\\xd7\\xf4\\xb7)\\xb1\\x02\\xd4\\x06\\x90B\\x12\\xd9\\x1f8s-\\\\\\xd3\\xdc5{mX\\xc9]\\xe9\\x84\\xd5\\xd6\\xbdaU\\x7f\\xec\\x01\\xb8i\\xeb\\xfe\\x05\\xb0\\xf47$\\xafG\\x9e\\x90^\\xe1\\x0b\\x04\\xf5y\\x9f\\xeb\\xb3\\xca\\x0b\\xa4\\xf5\\xb5C\\x0f}\\xa9=\\xb6\\x004?\\xf1D\\xc5\\xf0?\\x93\\x7f\\x07Y\\xcb<-\\x1b\\tY\\xf0\\xbe\\x82\\xcf\\x8e\\x13\\xdax\\xf8\\xa1\\xd5\\xc7\\xca\\t@\\xa2\\\\\\x1b\\r\\x9fJ\\xde\\xe6\\x16^\\x89\\x03P\\xdc\"\\xd4[H\\x1cp\\x0b\\t\\x1f0\\x0c\\xd6\\xa6A\\xf1\\xab\\xa5\\xa9_L/\\'\\x00\\x95\\xe5\\xda\\x88\\xcaO\\xc2\\x11\\x9e\\x17\\xabFF>\\xb3\\xdbv`M\\xa9\\xdd\\x1doT$N\\x83\\x9c\\xe9o\\t\\xc6ku\\xc3\\xffN\\xdc\\x00\\xa0=v\\x16\\x00`\\x0eA\\x00\\x04\\x88]\\xbb]\\xde{w\\xaai\\x18\\xe4\\xaeB\\r#D\\xeb\\xf0\\xb7\\x04\\xc5\\x87cI\\x01R\\x93\\xd9\\x1b\\x05\\xac\\xc5 \\xc5uQH.\\x0e\\xd2p4ZX\\x0bcI\\x01!*5\\xa7\\xbdy\\xcb7<\\xf5`\\xe5\\x8f\\xda\\xb7\\x02\\xc0\\xc8\\x0f\\xda\\xd7\\x12\\x9c\\x07\\xdbB\\xdc_@$\\n\\x00\\x8a\\xb7\\xc5\\x12\\x00\\xcd\\x8b\\xebJ\\xdc?\\x9a\\x96\\xd6\\x8cEpF\\xa8\\x86]`x\\x00\\xf2\\xb3\\x04\\x10\\xf1t\\x82\\xfef;\\xa3\\xb8\\x93C\\xb0\\xd6\\xf3\\xec\\xc5\\xf6/\\xf1\\x04 \\x9c\\xc3\\x98h\\x08\\xf4XKL-@w\\x12<\\x0c\\x02\\xa2\\x84\\x02P[\\x8b`V{\\x04\\x15P\\x10\\xf6\\xe4#\\x04\\xaf\\x0f\\x17\\xdc\\x07\\xdc8\\x02\\xf0\\xf4\\xba\\x1b\\x7f\\x18\\xf53\\x1f\\xfd\\xce\\xe3\\x1ba\\x03`\\x9c\\x0f\\xa8\\xbe5\\x00\\xdc\\xf4p\\xe7\\'\\xa8\\xda\\xa0\\xd4\\x05 \\xaf\\x02)\\xcc\\xdeL&\\xf9\\x01\\xa1\\xa0\\xda\\xdaeF\\xd3\\xb4h\\xdf\\xb3\\x05P\\xed\\xf0O@\\t\\x8b:O\\x8a\\xe6\\x03\\xde5\\xc7\\xe2\\xfa[[\\xa1X\\x96w\\x9b\\x97\\x90`\\x0fT\\xfe\\x8a\\xcb\\xdf\\xb1G$\\xa5\\x13\\x06\\xa0i\\xcb\\xbe%T\\xd9\\xa8\\xaa\\x8d !\\x1e\\x8f\\x8c\\x00\\x87\\x06\\xaf\\xd7\\x16:\\xfe\\x8b\\xae\\xb0\\'%\\xf8\\x03W\\xf1r\\x1d\\x04\\xcb\\x0b\\xb9\\x88\\xcf\\x03\\n\\x9c}\\xed\\x19\\x9e\\xfd\\xd6\\xed2\\xe7\\x91\\x0b%\\'BM[:[T\\xa5\\x93d\\xe3\\xc4\\x92\\x17\\x9f\\xb5\\x82|\\x00!\\x14\\x80!\\xf7\\xb3\\xd6g\\x01\\xd0e\\xb0\\xf40\\xcf\\xb5U\\x97\\x04@\\xd3\\xc3\\xfbV\\xa8\\xe2\\x11\\x13n\\xa2\\\\kA\\xf9\\x80\\x89\\xe7\\xcf\\nNu\\x81`\\xbd\\x0f\\xe9\\xa1\\x07#\\x03p\\xeb\\xd6\\xbf\\xcc$\\x12;@M\\x98\\xe4\\xef\\x13,p\\x8c\\xc0\\r\\xd7z\\x81\\xe0\\xae\\xd7\\xe9{\\xf8\\x8f;\\xe6F\\x02\\xc0R\\xf92\\xa93\\xbc\\t\\x88\\xa96Q\\xd6| \\xd4\\xf4\\x1d!5Oh\\x87\\x06\\x00\\xb5\\x12H\\x7f!\\x12\\x00J|\\xc3/\\x01\\xf1\\xf0\\x15\\x93A\\x8bB\\x80|\\xc6E[K33\\x02\\x86i\\xdf\\x9e\\x8b\\x9a\\x03p\\xe3\\xe6\\xbd\\xef%\\xb5\\xceH\\x80@\\xbe\\x96\\x87\\x02\\xfe\\x06/G3\\xd5\\x97\\xb5\\xc8+\\xa8\\x8f\\xe0\\xb9k\\x8bx\\xaa\\xf9\\xedF\\x00\\xa8H-\\\\\\xda(Y\\xc3Q\\n\\x1c\\x9f\\xb5\\x10\\xb3\\x7f\\x9e\\xa7\\xd6^\\t\\xd5+\\x1c\\xc1\\xe1#8<\\xa0\\x08F\\x13W\\x1b\\x01\\x90P\\xad5\\xce\\xcb\\xcbV\\xe0\\x98\\xa6\\xba\\xdc\\xdf\\xf3\\xe8\\x9a\\xfdH\\x8c-\\xcf\\t\\xed\\x12\\x1c!\\xd6\\x00\\xbd\\xc6(\\x11\"YK;\\xff~3\\x0b\\x1c\\x83p\\xf7FB\\xf4\\x0e\\x9e\\xbb+\\x89\\xb4lr\\x00pb\\x7f\\xfe\\\\\\xed\\xe8\\xe1\\\\\\xab5\\xa3\\x80\\xa2v\\xf2c?\\xa2\\x86\\xbbWH.=\\xb6\\xfd\\xee\\xe3\\xb0\\xf0(`\\xbd;\\x84\\xef\\x01\\x94H_cF\\x01a\\xadG\\x1f%Q\\xa0\\xb4\\xb5<[\\xbc\\x00\\xf0)\\x08\\xbf\\xaf\\xd53\\x1az\\xd6\\xf5\\xbd\\xc8\\x7f\\xad\\xd9\\x0e\\xd5\\xcf\\x05$=E(\\xe1o\\x01\\x95\\x85\\x16\\xc0\\xb9\\x1e\\xcd\\xc1\\xc7\\xa1\\x15\\xd30xT\\x88v%\\xbauD\\x8f\\x1c\\xf9\\xd9W\\x06\\'Tj\\x9f\\xb9\\xfb\\x83\\xd0\\xf4\\xafA\\x9d\\xef1\\xf5\\xac\\x99;\\xf3\\x00\\x1aD\\xf4\\x01\\xaf\\x83\\xac\\x0euh\\xf9\\xf9@\\xce\\xc3\\x8f\\x81\\xbc\\xbf\\xab\\xbao3R)\\xe5\\xf9\\x96\\x1a\\xa4\\xab\\x1b\\xf0@\\xeb,#I-\\xcb\\x9e\\xa4\\x01`6\\xc8F\\xd0j\\x845>\\x1fP\\xf1p\\xda3\\xcf\\x07\\xa5\\x80\\xff\\x00u\\xb6Y5H\\x9e yE\\t\\\\\\xbf`)o\\xe8\\xde\\xbc\\xaa\\x97g\\xdb\\x96bM\\xeb6(\\xaeEB\\x13ES\\xf9\\xec\\xcd\\xc2D\\xab!\\x8e\\xce#t\\xc1>\\xaf\\x1a\\xf9\\x00\\x92\\'Ksrh\\xe9\\xde\\xbc\\xaa\\x97\\xe7\\xda\\xd6C\\xb8\\x17\\xc0\\x07\\x8c\\xda\\xee\\x851;\\xcf\\x91Eqta\\t\\x91\\x0e\\x98\\xf9\\x00\\xe2\\x84Dvh\\xfax\\xd7\\x8fo\\xff-\\xfb[W\\x83\\\\g\\xc8\\xec\\x00\\xf3-j\\xca\\x01\\xda\\xd7\\x90=\\x15 \\xcf\\x1a\\x01 \\x19\\nD*p\\xd2\\xe9\\x8a\\x07x\\xfe\\xdb\\x97\\x83\\xba\\xcd\\xf09Z8g#9:SP\\xd8eD\\x01\\x0b8\\x111\\xf6\\x0f\\x1e\\xd9\\xf2\\xc5>Po\\x05\\xf1N#\\xad\\xa3H\\xfenZ\\xe4\\x14\\xa5\\x84\\xeb\\xb5\\xa6;\\x8d,\\xa0J+^\\x19G\\x9a\\x00\\xc5\\x13\\x02\\x03(\\xa0d\\xb7-\\xdb\"s\\x93\\xcf\\xd7j\\x04\\xed\\x87:\\xba@J\\x0c\\xa3\\xa6\\xf2\\xb0\\x91\\x05\\xecI}\\xfaU\\xc2\\xe7q6\\x02\\x0b\\x9c\\x97\\x9c\\x1e\\x9dq\\xb7F}\\xb4f\\x05k\\xbf\\xc0\\xd1\\x19\\xec\\xe3\\xf9\\x9b\\xfc\\xbd\\xcc\\xed\\x1c1\\xee\\x07\\xd0\\xe2c\\xc6\\x05\\x8e2\\xdby\\xad\\x8a\\xde\\xad\\xf1\\x11\\x86%\\x80\\x12\\x06nFY;\"5D*\\xc7\\xc6v\\x82\\xec7kn\\xaaa\\xb7&\\x84\\xc3\\x81ilDP\\xf2\\xad#3\\xfapmWG$\\x00:6\\xad|\\x9d\\xc0\\x9d&\\xf9@a\\x92\\xc3\\x80\\x1b4\\x88\\xd9\\xc5L\\xd94\\xf6\\xbboJ\\x12-\"\\xd0\\xc8]\\xe1\\x03\\xebW\\xfcI\\x80ME\\xf3\\x01\\xcf\\xde4\\xd4Z\\x10\\xa7\\rA\\t\\x03\\xd7\\x13\\xd3\\xe5\\xa7R\\x7fpo\\xc9\\xcf\\x05\\x0elh\\xfe\\xaeR?K\\xf0t`>\\xa06\\xdcZbx\\xa2!(E)\\xe11\\xc5\\xff\\x80\\xf2u\\xa9\\x7f\\xf6\\x9e\\t?\\x19\\xea\\xdat\\xdb\\x93\\x00\\xaeZ|\\xdf\\x8e\\xf7\\x8c[\\x15\\rT\\xce\\xb1s\\xc6\\xcc\\xb7\\xf0\\x85\\x92\\xc3\\x9cZ\\x7f@\\x82{2\\xf7\\xae\\xce\\x9e\\x9e\\xba\\xc0I\\x9c\\xd4iXd\\xe6\\x96\\xeb\\xb5c\\x81C\\xa8@\\x0f\\xfev\\xe5\\xcb\\xb2r\\xa7\\xf5\\xa6\\x1e\\x93\\xe3\\x99o\\xf6\\x80\\\\hX\\x9af\\x8f\\xbb|O\\xae\\xde\\xb9\\x11o\\xe1(\\x1f\\x00\\xa7\\xef\\xca\\x00\\xe0+h (C /\\x05&9`N\\xe3\\xd9}D\\xf7I\\xdd\\xc1U1< \\x11\\xa54u\\xe65\\xa0\\xd6D*q\\x15\\xef\\x8a\\xe9\\t\\x11\\x83\\xc6Dii\\xac\\xeb:Q\\xee\\xe3\\xcd\\xe5\\x05\\xc0\\xbc4-\\xe6\\',\\xc0\\xfa#\\xc8Y\\x00\\x97x\\xc3[y\\x8f\\x88\\x94\\x0f\\x00X9\\x8dN\\xac\\xc8\\x19\\x03Y/\\xf5\\xfb\\x8f\\x03\\x00_\\xfc\\xd82\\x08\\x9ev\\x07\\xf7r\\x02P\\xbe\\x93\\xa2\\xaa\\x03e\\x89\\xfd\\xd0\\xdfI}\\xe7qG\\xdc\\xeb\\x9e{\\x06\\xc0\\x0b.\\x0b\\x18\\x8c\\'\\x00HwEzR\\x13\\x08Jz\\xd4\\xa7\\xa6\\x1au1\\xa0;\\xa6\\x16\\x80\\x0e\\xf3|>,\\xf3\\xc3J\\x1e\\xfbx\\xd2\\x91\\xb7w\\xf1\\x87 h\\xcc\\xdd1\\x0f\\xc62\\x0f\\x00\\x00\\x9el\\xfe9\\xa8wF\\xeb\\xe5\\xb9\\xdf\\xe7\\x8c!\\x80; 2+s\\xe6\\x07\\xd3\\xec~\\xdd6\\xa9\\xef\\xba7\\xa6N\\x10\\xc04\\xdc\\x8bQ}?\\xa8K\\xa258\\x0b\\x1c{\\r -y\\xcb\\x7f\\xc6\\xf9\\xaa\\xb6\\xd8f\\x829\\x8a\\xa6\\x12\\xe8;\\xb6\\x16b\\xad\\x07uz\\x91^\\xbd\\xc9\\x96\\x97\\x00\\xb9\\x0f\\xf5\\xcfn\\x17)\\xf7A\\xd9I\\xfc\\xaf1\\x9e\\xbc\\xf92\\x8c\\x8e\\xac\\x06\\xf8U\\xc0>p\\x91\\xaf\\xfd\\xf0\\xd1\\x0b\\xe1/\\x91\\xc6c\\xb2\\xb0\\xeb|\\xeck\\x81P0^\\xfe\\xd4,h\\xba\\x0e`\\x1d\\xa0\\x0b2\\xbfQ\\x07\"\\t\\xe0\"\\x04\\xafA\\xd1\\x0f\\xf0y\\x08\\x0e\\xa1R\\x0e\\xc9\\xfc\\xe7\\xce`jL\\x8d\\xa915&y\\xfc\\x17\\xe4\\xcc\\xfc\\xa7\\x9c\\xd5n\\x7f\\x00\\x00\\x00\\x00IEND\\xaeB`\\x82'\n"
     ]
    }
   ],
   "source": [
    "with open(\"python.jpg\",'rb') as f: #default => read in binary mode\n",
    "     print(f.read())"
   ]
  },
  {
   "cell_type": "code",
   "execution_count": 58,
   "id": "c45563f4-a4dd-4e39-a4f8-5e46efa8adc1",
   "metadata": {},
   "outputs": [],
   "source": [
    "# JSON String \n",
    "# Data type sab program ko aafnei aafnei hunchha\n",
    "# application haru bich communication (message transfer ) garda JSON bata garencha\n"
   ]
  },
  {
   "cell_type": "code",
   "execution_count": 61,
   "id": "c516f318-78c0-48cd-bef9-e55b0c6290ab",
   "metadata": {},
   "outputs": [
    {
     "name": "stdout",
     "output_type": "stream",
     "text": [
      "[{\"name\": \"ram\", \"age\": 22, \"address\": \"ktm\", \"skills\": [\"python\", \"django\", \"machine learning\"], \"is_programmer\": true, \"phone\": null}] <class 'str'>\n"
     ]
    }
   ],
   "source": [
    "#json string\n",
    "import json \n",
    "\n",
    "person = [{\n",
    "    \"name\":'ram',\n",
    "    \"age\":22,\n",
    "    \"address\":'ktm',\n",
    "    \"skills\":['python','django','machine learning'],\n",
    "    \"is_programmer\":True,\n",
    "    \"phone\":None\n",
    "}]\n",
    "\n",
    "x=json.dumps(person)#json ma convert garna ko lagi  json.dumps\n",
    "print(x,type(x))\n",
    "#hamro data type json ma convert vaisakyo"
   ]
  },
  {
   "cell_type": "code",
   "execution_count": 66,
   "id": "f41506f4-01f6-4e69-b452-3b8f604e323e",
   "metadata": {},
   "outputs": [
    {
     "name": "stdout",
     "output_type": "stream",
     "text": [
      "{'name': 'ram', 'age': 22, 'address': 'ktm', 'skills': ['python', 'django', 'machine learning'], 'is_programmer': True, 'phone': None} <class 'dict'>\n"
     ]
    }
   ],
   "source": [
    "#json string lai aafno  bujne format(datatypema)\n",
    "#json dictionary ma convrt unchaa\n",
    "#json ma always double quotation use hunchha\n",
    "\n",
    "import json\n",
    "json_string = \"\"\"  \n",
    "{\n",
    "   \"name\":\"ram\",\n",
    "    \"age\":22,\n",
    "    \"address\":\"ktm\",\n",
    "    \"skills\":[\n",
    "        \"python\",\n",
    "        \"django\",\n",
    "        \"machine learning\"\n",
    "    ],\n",
    "    \"is_programmer\":true,\n",
    "    \"phone\":null \n",
    "}\n",
    "\"\"\"\n",
    "x=json.loads(json_string)#json  lai dictionary ma convert garna ko lagi  json.load\n",
    "print(x,type(x))"
   ]
  },
  {
   "cell_type": "code",
   "execution_count": 69,
   "id": "e78c5c22-10e0-4789-8e60-b9a1e8dcaebf",
   "metadata": {},
   "outputs": [
    {
     "name": "stdout",
     "output_type": "stream",
     "text": [
      "[{\"name\": \"ram\", \"age\": 22, \"address\": \"ktm\", \"skills\": [\"python\", \"django\", \"machine learning\"], \"is_programmer\": true, \"phone\": null}] <class 'str'>\n"
     ]
    }
   ],
   "source": [
    "import json \n",
    "\n",
    "person = [{\n",
    "    \"name\":'ram',\n",
    "    \"age\":22,\n",
    "    \"address\":'ktm',\n",
    "    \"skills\":['python','django','machine learning'],\n",
    "    \"is_programmer\":True,\n",
    "    \"phone\":None\n",
    "}]\n",
    "#string ma convert vaisakyo yeha sammaa\n",
    "x=json.dumps(person)\n",
    "print(x,type(x))\n",
    "\n",
    "with open(\"person.json\",\"w\") as f:\n",
    "    f.write(x)"
   ]
  },
  {
   "cell_type": "code",
   "execution_count": 70,
   "id": "892382d0-2483-4d2d-a413-9510714f73ee",
   "metadata": {},
   "outputs": [],
   "source": [
    "#shortcut method\n",
    "import json \n",
    "\n",
    "person = {\n",
    "    \"name\":'ram',\n",
    "    \"age\":22,\n",
    "    \"address\":'ktm',\n",
    "    \"skills\":['python','django','machine learning'],\n",
    "    \"is_programmer\":True,\n",
    "    \"phone\":None\n",
    "}\n",
    "\n",
    "with open(\"person.json\",\"w\") as f:\n",
    "    json.dump(person,f)"
   ]
  },
  {
   "cell_type": "code",
   "execution_count": 71,
   "id": "c59794d0-8707-4c10-84d3-88dba1ad9dfb",
   "metadata": {},
   "outputs": [
    {
     "name": "stdout",
     "output_type": "stream",
     "text": [
      "python <class 'dict'>\n"
     ]
    }
   ],
   "source": [
    "#file lai read garera json ma convert garera skills ma python ma nekalne\n",
    "import json\n",
    "with open(\"person.json\",\"r\") as f:\n",
    "    data = f.read()\n",
    "    x = json.loads(data)\n",
    "    print(x['skills'][0],type(x))"
   ]
  },
  {
   "cell_type": "code",
   "execution_count": 72,
   "id": "88fd31be-827b-4c36-83f9-1c2e6eec0f1e",
   "metadata": {},
   "outputs": [
    {
     "name": "stdout",
     "output_type": "stream",
     "text": [
      "python <class 'dict'>\n"
     ]
    }
   ],
   "source": [
    "import json\n",
    "with open(\"person.json\",\"r\") as f:\n",
    "    \n",
    "    x = json.load(f)\n",
    "    print(x['skills'][0],type(x))"
   ]
  },
  {
   "cell_type": "code",
   "execution_count": null,
   "id": "a9680b96-d9ad-48f3-8430-bdc4cdb5709a",
   "metadata": {},
   "outputs": [],
   "source": []
  }
 ],
 "metadata": {
  "kernelspec": {
   "display_name": "Python 3 (ipykernel)",
   "language": "python",
   "name": "python3"
  },
  "language_info": {
   "codemirror_mode": {
    "name": "ipython",
    "version": 3
   },
   "file_extension": ".py",
   "mimetype": "text/x-python",
   "name": "python",
   "nbconvert_exporter": "python",
   "pygments_lexer": "ipython3",
   "version": "3.13.3"
  }
 },
 "nbformat": 4,
 "nbformat_minor": 5
}
